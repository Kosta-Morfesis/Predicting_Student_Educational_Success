{
 "cells": [
  {
   "cell_type": "markdown",
   "metadata": {},
   "source": [
    "# Data cleaning and early visualizations"
   ]
  },
  {
   "cell_type": "markdown",
   "metadata": {},
   "source": [
    "# Importing and cleaning data"
   ]
  },
  {
   "cell_type": "code",
   "execution_count": 102,
   "metadata": {},
   "outputs": [],
   "source": [
    "import pandas as pd\n",
    "import matplotlib.pyplot as plt\n",
    "import seaborn as sns\n",
    "import collections\n",
    "import numpy as np\n",
    "import scipy.stats as stats"
   ]
  },
  {
   "cell_type": "code",
   "execution_count": 103,
   "metadata": {},
   "outputs": [],
   "source": [
    "math_df = pd.read_csv('data/student-mat.csv', delimiter = ';') #read csv files into Dataframes for the Portuguese data\n",
    "port_df = pd.read_csv('data/student-por.csv', delimiter = ';')"
   ]
  },
  {
   "cell_type": "code",
   "execution_count": 104,
   "metadata": {},
   "outputs": [
    {
     "data": {
      "text/plain": [
       "False"
      ]
     },
     "execution_count": 104,
     "metadata": {},
     "output_type": "execute_result"
    }
   ],
   "source": [
    "# for port_col in port_df.columns:  #This is basically to check if the values are the same for many columns, indicating\n",
    "#     for math_col in math_df.columns: # the same students were used. This does not seem to be the case, further inspection\n",
    "#         if port_df[port_col].name == math_df[math_col].name: #s shows they are not the same either.\n",
    "#             if port_df[port_col] == math_df[math_col]:\n",
    "#                 print(True)\n",
    "#             else:\n",
    "#                 print(False)\n",
    "#         else: \n",
    "#             print('not same column')\n",
    "\n",
    "len(port_df) == len(math_df) # check their lengths"
   ]
  },
  {
   "cell_type": "code",
   "execution_count": 105,
   "metadata": {},
   "outputs": [],
   "source": [
    "port_df.index.name = 'student' # set index name to student, since they are the same in each and we can consider this\n",
    "math_df.index.name = 'student' # an ID for the students."
   ]
  },
  {
   "cell_type": "code",
   "execution_count": 106,
   "metadata": {},
   "outputs": [
    {
     "name": "stdout",
     "output_type": "stream",
     "text": [
      "port_df has no null values\n",
      "math_df has no null values\n"
     ]
    }
   ],
   "source": [
    "# Here we'll check for null values in the dataframes using isnull()\n",
    "if port_df.isnull().any().any() == True:\n",
    "    print('port_df has null values')\n",
    "else:\n",
    "    print('port_df has no null values')\n",
    "    \n",
    "if math_df.isnull().any().any() == True:\n",
    "    print('math_df has null values')\n",
    "else:\n",
    "    print('math_df has no null values')\n"
   ]
  },
  {
   "cell_type": "code",
   "execution_count": 107,
   "metadata": {
    "scrolled": true
   },
   "outputs": [
    {
     "data": {
      "text/html": [
       "<div>\n",
       "<style scoped>\n",
       "    .dataframe tbody tr th:only-of-type {\n",
       "        vertical-align: middle;\n",
       "    }\n",
       "\n",
       "    .dataframe tbody tr th {\n",
       "        vertical-align: top;\n",
       "    }\n",
       "\n",
       "    .dataframe thead th {\n",
       "        text-align: right;\n",
       "    }\n",
       "</style>\n",
       "<table border=\"1\" class=\"dataframe\">\n",
       "  <thead>\n",
       "    <tr style=\"text-align: right;\">\n",
       "      <th></th>\n",
       "      <th>age</th>\n",
       "      <th>Medu</th>\n",
       "      <th>Fedu</th>\n",
       "      <th>traveltime</th>\n",
       "      <th>studytime</th>\n",
       "      <th>failures</th>\n",
       "      <th>famrel</th>\n",
       "      <th>freetime</th>\n",
       "      <th>goout</th>\n",
       "      <th>Dalc</th>\n",
       "      <th>Walc</th>\n",
       "      <th>health</th>\n",
       "      <th>absences</th>\n",
       "      <th>G1</th>\n",
       "      <th>G2</th>\n",
       "      <th>G3</th>\n",
       "    </tr>\n",
       "  </thead>\n",
       "  <tbody>\n",
       "    <tr>\n",
       "      <th>mean</th>\n",
       "      <td>16.696203</td>\n",
       "      <td>2.749367</td>\n",
       "      <td>2.521519</td>\n",
       "      <td>1.448101</td>\n",
       "      <td>2.035443</td>\n",
       "      <td>0.334177</td>\n",
       "      <td>3.944304</td>\n",
       "      <td>3.235443</td>\n",
       "      <td>3.108861</td>\n",
       "      <td>1.481013</td>\n",
       "      <td>2.291139</td>\n",
       "      <td>3.55443</td>\n",
       "      <td>5.708861</td>\n",
       "      <td>10.908861</td>\n",
       "      <td>10.713924</td>\n",
       "      <td>10.41519</td>\n",
       "    </tr>\n",
       "    <tr>\n",
       "      <th>max</th>\n",
       "      <td>22.000000</td>\n",
       "      <td>4.000000</td>\n",
       "      <td>4.000000</td>\n",
       "      <td>4.000000</td>\n",
       "      <td>4.000000</td>\n",
       "      <td>3.000000</td>\n",
       "      <td>5.000000</td>\n",
       "      <td>5.000000</td>\n",
       "      <td>5.000000</td>\n",
       "      <td>5.000000</td>\n",
       "      <td>5.000000</td>\n",
       "      <td>5.00000</td>\n",
       "      <td>75.000000</td>\n",
       "      <td>19.000000</td>\n",
       "      <td>19.000000</td>\n",
       "      <td>20.00000</td>\n",
       "    </tr>\n",
       "    <tr>\n",
       "      <th>min</th>\n",
       "      <td>15.000000</td>\n",
       "      <td>0.000000</td>\n",
       "      <td>0.000000</td>\n",
       "      <td>1.000000</td>\n",
       "      <td>1.000000</td>\n",
       "      <td>0.000000</td>\n",
       "      <td>1.000000</td>\n",
       "      <td>1.000000</td>\n",
       "      <td>1.000000</td>\n",
       "      <td>1.000000</td>\n",
       "      <td>1.000000</td>\n",
       "      <td>1.00000</td>\n",
       "      <td>0.000000</td>\n",
       "      <td>3.000000</td>\n",
       "      <td>0.000000</td>\n",
       "      <td>0.00000</td>\n",
       "    </tr>\n",
       "  </tbody>\n",
       "</table>\n",
       "</div>"
      ],
      "text/plain": [
       "            age      Medu      Fedu  traveltime  studytime  failures  \\\n",
       "mean  16.696203  2.749367  2.521519    1.448101   2.035443  0.334177   \n",
       "max   22.000000  4.000000  4.000000    4.000000   4.000000  3.000000   \n",
       "min   15.000000  0.000000  0.000000    1.000000   1.000000  0.000000   \n",
       "\n",
       "        famrel  freetime     goout      Dalc      Walc   health   absences  \\\n",
       "mean  3.944304  3.235443  3.108861  1.481013  2.291139  3.55443   5.708861   \n",
       "max   5.000000  5.000000  5.000000  5.000000  5.000000  5.00000  75.000000   \n",
       "min   1.000000  1.000000  1.000000  1.000000  1.000000  1.00000   0.000000   \n",
       "\n",
       "             G1         G2        G3  \n",
       "mean  10.908861  10.713924  10.41519  \n",
       "max   19.000000  19.000000  20.00000  \n",
       "min    3.000000   0.000000   0.00000  "
      ]
     },
     "execution_count": 107,
     "metadata": {},
     "output_type": "execute_result"
    }
   ],
   "source": [
    "# since there are no null values now we can check for any outliers using describe\n",
    "math_df.describe().loc[['mean','max','min']]"
   ]
  },
  {
   "cell_type": "code",
   "execution_count": 108,
   "metadata": {},
   "outputs": [
    {
     "data": {
      "text/html": [
       "<div>\n",
       "<style scoped>\n",
       "    .dataframe tbody tr th:only-of-type {\n",
       "        vertical-align: middle;\n",
       "    }\n",
       "\n",
       "    .dataframe tbody tr th {\n",
       "        vertical-align: top;\n",
       "    }\n",
       "\n",
       "    .dataframe thead th {\n",
       "        text-align: right;\n",
       "    }\n",
       "</style>\n",
       "<table border=\"1\" class=\"dataframe\">\n",
       "  <thead>\n",
       "    <tr style=\"text-align: right;\">\n",
       "      <th></th>\n",
       "      <th>age</th>\n",
       "      <th>Medu</th>\n",
       "      <th>Fedu</th>\n",
       "      <th>traveltime</th>\n",
       "      <th>studytime</th>\n",
       "      <th>failures</th>\n",
       "      <th>famrel</th>\n",
       "      <th>freetime</th>\n",
       "      <th>goout</th>\n",
       "      <th>Dalc</th>\n",
       "      <th>Walc</th>\n",
       "      <th>health</th>\n",
       "      <th>absences</th>\n",
       "      <th>G1</th>\n",
       "      <th>G2</th>\n",
       "      <th>G3</th>\n",
       "    </tr>\n",
       "  </thead>\n",
       "  <tbody>\n",
       "    <tr>\n",
       "      <th>mean</th>\n",
       "      <td>16.744222</td>\n",
       "      <td>2.514638</td>\n",
       "      <td>2.306626</td>\n",
       "      <td>1.568567</td>\n",
       "      <td>1.930663</td>\n",
       "      <td>0.22188</td>\n",
       "      <td>3.930663</td>\n",
       "      <td>3.180277</td>\n",
       "      <td>3.1849</td>\n",
       "      <td>1.502311</td>\n",
       "      <td>2.280431</td>\n",
       "      <td>3.53621</td>\n",
       "      <td>3.659476</td>\n",
       "      <td>11.399076</td>\n",
       "      <td>11.570108</td>\n",
       "      <td>11.906009</td>\n",
       "    </tr>\n",
       "    <tr>\n",
       "      <th>max</th>\n",
       "      <td>22.000000</td>\n",
       "      <td>4.000000</td>\n",
       "      <td>4.000000</td>\n",
       "      <td>4.000000</td>\n",
       "      <td>4.000000</td>\n",
       "      <td>3.00000</td>\n",
       "      <td>5.000000</td>\n",
       "      <td>5.000000</td>\n",
       "      <td>5.0000</td>\n",
       "      <td>5.000000</td>\n",
       "      <td>5.000000</td>\n",
       "      <td>5.00000</td>\n",
       "      <td>32.000000</td>\n",
       "      <td>19.000000</td>\n",
       "      <td>19.000000</td>\n",
       "      <td>19.000000</td>\n",
       "    </tr>\n",
       "    <tr>\n",
       "      <th>min</th>\n",
       "      <td>15.000000</td>\n",
       "      <td>0.000000</td>\n",
       "      <td>0.000000</td>\n",
       "      <td>1.000000</td>\n",
       "      <td>1.000000</td>\n",
       "      <td>0.00000</td>\n",
       "      <td>1.000000</td>\n",
       "      <td>1.000000</td>\n",
       "      <td>1.0000</td>\n",
       "      <td>1.000000</td>\n",
       "      <td>1.000000</td>\n",
       "      <td>1.00000</td>\n",
       "      <td>0.000000</td>\n",
       "      <td>0.000000</td>\n",
       "      <td>0.000000</td>\n",
       "      <td>0.000000</td>\n",
       "    </tr>\n",
       "  </tbody>\n",
       "</table>\n",
       "</div>"
      ],
      "text/plain": [
       "            age      Medu      Fedu  traveltime  studytime  failures  \\\n",
       "mean  16.744222  2.514638  2.306626    1.568567   1.930663   0.22188   \n",
       "max   22.000000  4.000000  4.000000    4.000000   4.000000   3.00000   \n",
       "min   15.000000  0.000000  0.000000    1.000000   1.000000   0.00000   \n",
       "\n",
       "        famrel  freetime   goout      Dalc      Walc   health   absences  \\\n",
       "mean  3.930663  3.180277  3.1849  1.502311  2.280431  3.53621   3.659476   \n",
       "max   5.000000  5.000000  5.0000  5.000000  5.000000  5.00000  32.000000   \n",
       "min   1.000000  1.000000  1.0000  1.000000  1.000000  1.00000   0.000000   \n",
       "\n",
       "             G1         G2         G3  \n",
       "mean  11.399076  11.570108  11.906009  \n",
       "max   19.000000  19.000000  19.000000  \n",
       "min    0.000000   0.000000   0.000000  "
      ]
     },
     "execution_count": 108,
     "metadata": {},
     "output_type": "execute_result"
    }
   ],
   "source": [
    "port_df.describe().loc[['mean','max','min']]\n",
    "# since the data is from a non open ended questionare, there is little likelihood for outliers.\n",
    "# By checking the mean, min, max we can more easily see outliers. We see that the absences have\n",
    "# some extreme outliers. Also the daily/weekend alcohol consumption seems to potentially\n",
    "# have some outliers as well. \n",
    "# To fix the absences outliers, we can group them into categories such as: absences < 5, 5 < absences < 10, \n",
    "# 10 < absences < 15, absences > 15. Which we will do below:"
   ]
  },
  {
   "cell_type": "code",
   "execution_count": 109,
   "metadata": {},
   "outputs": [],
   "source": [
    "absence_df = pd.DataFrame(port_df.absences.groupby(port_df.absences).count())    #this is code just to determine the dist-\n",
    "absence_df = absence_df.rename(columns = {'absences':'student_count'})           # ribution of the absences \n",
    "# float(absence_df.student_count[7:].sum())/(absence_df.student_count.sum())"
   ]
  },
  {
   "cell_type": "code",
   "execution_count": 110,
   "metadata": {
    "scrolled": true
   },
   "outputs": [],
   "source": [
    "port_df.loc[port_df.absences <= 1,'abs_group'] = 1                                # grouping ranges for the absences\n",
    "port_df.loc[(port_df.absences >= 2) & (port_df.absences <= 3), 'abs_group'] = 2\n",
    "port_df.loc[(port_df.absences >= 4) & (port_df.absences <= 6), 'abs_group'] = 3\n",
    "port_df.loc[port_df.absences >= 7, 'abs_group'] = 4\n",
    "port_df = port_df.drop('absences', axis = 1)\n",
    "\n",
    "math_df.loc[math_df.absences <= 1,'abs_group'] = 1                                # grouping ranges for the absences\n",
    "math_df.loc[(math_df.absences >= 2) & (math_df.absences <= 3), 'abs_group'] = 2\n",
    "math_df.loc[(math_df.absences >= 4) & (math_df.absences <= 6), 'abs_group'] = 3\n",
    "math_df.loc[math_df.absences >= 7, 'abs_group'] = 4\n",
    "math_df = math_df.drop('absences', axis = 1)"
   ]
  },
  {
   "cell_type": "code",
   "execution_count": 111,
   "metadata": {},
   "outputs": [],
   "source": [
    "#https://data.oecd.org/pisa/reading-performance-pisa.htm#indicator-chart     (url from where the data was taken)\n",
    "# here we import data for the PISA test results according to each country 2009\n",
    "PISA_math_df = pd.read_csv('data/PISA_math2.csv')\n",
    "PISA_reading_df = pd.read_csv('data/PISA_reading2.csv')\n",
    "PISA_math_df = PISA_math_df.groupby('LOCATION').mean()\n",
    "PISA_reading_df = PISA_reading_df.groupby('LOCATION').mean()\n",
    "PISA_math_df = PISA_math_df.rename(columns = {'Value': 'math_val'})\n",
    "PISA_reading_df = PISA_reading_df.rename(columns = {'Value': 'reading_val'})\n",
    "PISA_df = pd.merge(PISA_math_df, PISA_reading_df, how = 'inner', left_index = True, right_index = True)\n",
    "PISA_df = PISA_df.drop(['TIME_x','Flag Codes_x','TIME_y', 'Flag Codes_y'], axis = 1)    # final test results for 2010"
   ]
  },
  {
   "cell_type": "code",
   "execution_count": 112,
   "metadata": {},
   "outputs": [],
   "source": [
    "# importing the teacher to student ratio 2010\n",
    "# https://stats.oecd.org/Index.aspx?DataSetCode=EAG_PERS_RATIO\n",
    "ratio_df = pd.read_csv('data/ratio.csv')\n",
    "ratio_df = ratio_df.loc[(ratio_df['Year'] == 2010)]\n",
    "ratio_df = ratio_df.loc[(ratio_df.INDICATOR == 'PERS_AVG_CLASS')]\n",
    "ratio_df = ratio_df.loc[ratio_df.REF_SECTOR == 'INST_T']\n",
    "ratio_df = ratio_df.drop(['ISC11_LEVEL_CAT', 'YEAR', 'Reference Period Code', 'Reference Period', 'PowerCode', 'PowerCode Code', 'Unit Code', 'Unit'], axis = 1)\n",
    "ratio_df = ratio_df.loc[ratio_df.Value == ratio_df.Value.fillna(0)]\n",
    "ratio_df = ratio_df.groupby(['COUNTRY']).mean()   #there are multiple values for diff. school levels\n",
    "ratio_df.rename(columns = {'Value' : 'class_size'}, inplace = True)"
   ]
  },
  {
   "cell_type": "code",
   "execution_count": 113,
   "metadata": {},
   "outputs": [],
   "source": [
    "#educational spending from the world bank data for year 2009 (% of government expenditure on education)\n",
    "# Source: https://data.worldbank.org/indicator/SE.XPD.SECO.PC.ZS\n",
    "spend_df = pd.read_csv('data/API_SE.XPD.SECO.ZS_DS2_en_csv_v2_10250946.csv')\n",
    "spend_df = spend_df[['Country Code','Indicator Name','2009']]\n",
    "spend_df.dropna(inplace = True)\n",
    "spend_df.set_index('Country Code', inplace = True)\n",
    "spend_df.rename(columns = {'2009': '% of government expenditure on education'}, inplace = True)"
   ]
  },
  {
   "cell_type": "code",
   "execution_count": 114,
   "metadata": {},
   "outputs": [],
   "source": [
    "for i in PISA_df.index:\n",
    "    if sum(i == ratio_df.index) == 0:\n",
    "        PISA_df.drop(i, inplace = True)\n",
    "for i in ratio_df.index:\n",
    "    if sum(i == PISA_df.index) == 0:\n",
    "        ratio_df.drop(i, inplace = True)\n",
    "PISA_size_df = pd.merge(PISA_df, ratio_df, how = 'inner', left_index=True, right_index=True)\n",
    "for i in PISA_df.index:\n",
    "    if sum(i == spend_df.index) == 0:\n",
    "        PISA_df.drop(i, inplace = True)\n",
    "for i in spend_df.index:\n",
    "    if sum(i == PISA_df.index) == 0:\n",
    "        spend_df.drop(i, inplace = True)\n",
    "PISA_spend_df = pd.merge(PISA_df, spend_df, how = 'inner', left_index=True, right_index=True)"
   ]
  },
  {
   "cell_type": "markdown",
   "metadata": {
    "collapsed": true
   },
   "source": [
    "# Exploratory Data Analysis"
   ]
  },
  {
   "cell_type": "markdown",
   "metadata": {},
   "source": [
    "the main question to be asked is: what factors most influence a students educational success? To answer this, it is necessary to take a look at the relationship between the independent variables and the grades obtained in the datasets. \n",
    "\n",
    "In the following cell, the average (between the math and reading portions) 2009 PISA grade for each country is plotted against the 'government expenditure on education as a % of the GDP' and the 'average class size'. This presents information about how these variables affect countrywide grades. One can see there is a slight positive correlation for government expenditure, whereas there is a negative correlation with class size. To truly see how this might benefit Portugal, it is important to compare the trends with Portugal's position in them. That is, is Portugals average class size just right, too small, or too large for the given trends. \n",
    "\n",
    "As one can see, the average PISA grade has a somewhat positive correlation with the government expenditure on education. Also, one can see a negative correlation between the class size and average PISA grade. \n"
   ]
  },
  {
   "cell_type": "code",
   "execution_count": 115,
   "metadata": {},
   "outputs": [
    {
     "data": {
      "image/png": "[encoded data removed]",
      "text/plain": [
       "<Figure size 360x360 with 1 Axes>"
      ]
     },
     "metadata": {
      "needs_background": "light"
     },
     "output_type": "display_data"
    },
    {
     "data": {
      "image/png": "[encoded data removed]",
      "text/plain": [
       "<Figure size 360x360 with 1 Axes>"
      ]
     },
     "metadata": {
      "needs_background": "light"
     },
     "output_type": "display_data"
    }
   ],
   "source": [
    "PISA_size_df['avg_grade'] = (PISA_size_df.math_val + PISA_size_df.reading_val)/2\n",
    "PISA_spend_df['avg_grade'] = (PISA_spend_df.math_val + PISA_spend_df.reading_val)/2\n",
    "sns.lmplot(x = '% of government expenditure on education', y = 'avg_grade', data = PISA_spend_df, fit_reg = False)\n",
    "# plt.xlim([17,24])\n",
    "plt.xlabel('government expenditure on education as % of GDP')\n",
    "plt.ylabel('average grade')\n",
    "plt.ylim([430,530])\n",
    "sns.lmplot(x = 'class_size', y = 'avg_grade', data = PISA_size_df, fit_reg = False)\n",
    "plt.xlabel('class size')\n",
    "plt.ylabel('average grade')\n",
    "# plt.xlim([17,24])\n",
    "plt.ylim([430,530])\n",
    "plt.show()"
   ]
  },
  {
   "cell_type": "code",
   "execution_count": 116,
   "metadata": {},
   "outputs": [
    {
     "data": {
      "text/plain": [
       "count     20.000000\n",
       "mean     486.600000\n",
       "std       35.001729\n",
       "min      399.000000\n",
       "25%      483.875000\n",
       "50%      492.500000\n",
       "75%      503.875000\n",
       "max      542.500000\n",
       "Name: avg_grade, dtype: float64"
      ]
     },
     "execution_count": 116,
     "metadata": {},
     "output_type": "execute_result"
    }
   ],
   "source": [
    "# PISA_size_df['avg_grade'] == PISA_spend_df['avg_grade']\n",
    "# PISA_spend_df.groupby('avg_grade').count().plot(kind = 'hist')\n",
    "# plt.show()\n",
    "# plt.hist(PISA_spend_df.groupby('avg_grade').count().index, PISA_spend_df.groupby('avg_grade').count().math_val)\n",
    "# sns.distplot(PISA_spend_df.avg_grade, bins = 10)\n",
    "PISA_spend_df.avg_grade.describe()\n",
    "\n",
    "# plt.show()"
   ]
  },
  {
   "cell_type": "markdown",
   "metadata": {},
   "source": [
    "# Plotting of G3 vs. Independent Variables"
   ]
  },
  {
   "cell_type": "markdown",
   "metadata": {},
   "source": [
    "Here the relationship between final average grades (G3) are plotted against the independent variables present in the questionnaire. When the column is categorical data, a bar plot is used. And when the column has an inherent hierarchy, a scatter plot is used. Note that in each case a 90 % confidence interval is utilized."
   ]
  },
  {
   "cell_type": "code",
   "execution_count": 117,
   "metadata": {},
   "outputs": [
    {
     "name": "stderr",
     "output_type": "stream",
     "text": [
      "/home/kosta/anaconda3/lib/python3.6/site-packages/matplotlib/pyplot.py:514: RuntimeWarning: More than 20 figures have been opened. Figures created through the pyplot interface (`matplotlib.pyplot.figure`) are retained until explicitly closed and may consume too much memory. (To control this warning, see the rcParam `figure.max_open_warning`).\n",
      "  max_open_warning, RuntimeWarning)\n"
     ]
    },
    {
     "data": {
      "image/png": "[encoded data removed]",
      "text/plain": [
       "<Figure size 432x288 with 1 Axes>"
      ]
     },
     "metadata": {
      "needs_background": "light"
     },
     "output_type": "display_data"
    },
    {
     "data": {
      "image/png": "[encoded data removed]",
      "text/plain": [
       "<Figure size 432x288 with 1 Axes>"
      ]
     },
     "metadata": {
      "needs_background": "light"
     },
     "output_type": "display_data"
    },
    {
     "data": {
      "image/png": "[encoded data removed]",
      "text/plain": [
       "<Figure size 360x360 with 1 Axes>"
      ]
     },
     "metadata": {
      "needs_background": "light"
     },
     "output_type": "display_data"
    },
    {
     "data": {
      "image/png": "[encoded data removed]",
      "text/plain": [
       "<Figure size 432x288 with 1 Axes>"
      ]
     },
     "metadata": {
      "needs_background": "light"
     },
     "output_type": "display_data"
    },
    {
     "data": {
      "image/png": "[encoded data removed]",
      "text/plain": [
       "<Figure size 432x288 with 1 Axes>"
      ]
     },
     "metadata": {
      "needs_background": "light"
     },
     "output_type": "display_data"
    },
    {
     "data": {
      "image/png": "[encoded data removed]",
      "text/plain": [
       "<Figure size 432x288 with 1 Axes>"
      ]
     },
     "metadata": {
      "needs_background": "light"
     },
     "output_type": "display_data"
    },
    {
     "data": {
      "image/png": "[encoded data removed]",
      "text/plain": [
       "<Figure size 360x360 with 1 Axes>"
      ]
     },
     "metadata": {
      "needs_background": "light"
     },
     "output_type": "display_data"
    },
    {
     "data": {
      "image/png": "[encoded data removed]",
      "text/plain": [
       "<Figure size 360x360 with 1 Axes>"
      ]
     },
     "metadata": {
      "needs_background": "light"
     },
     "output_type": "display_data"
    },
    {
     "data": {
      "image/png": "[encoded data removed]",
      "text/plain": [
       "<Figure size 432x288 with 1 Axes>"
      ]
     },
     "metadata": {
      "needs_background": "light"
     },
     "output_type": "display_data"
    },
    {
     "data": {
      "image/png": "[encoded data removed]",
      "text/plain": [
       "<Figure size 432x288 with 1 Axes>"
      ]
     },
     "metadata": {
      "needs_background": "light"
     },
     "output_type": "display_data"
    },
    {
     "data": {
      "image/png": "[encoded data removed]",
      "text/plain": [
       "<Figure size 432x288 with 1 Axes>"
      ]
     },
     "metadata": {
      "needs_background": "light"
     },
     "output_type": "display_data"
    },
    {
     "data": {
      "image/png": "[encoded data removed]",
      "text/plain": [
       "<Figure size 432x288 with 1 Axes>"
      ]
     },
     "metadata": {
      "needs_background": "light"
     },
     "output_type": "display_data"
    },
    {
     "data": {
      "image/png": "[encoded data removed]",
      "text/plain": [
       "<Figure size 360x360 with 1 Axes>"
      ]
     },
     "metadata": {
      "needs_background": "light"
     },
     "output_type": "display_data"
    },
    {
     "data": {
      "image/png": "[encoded data removed]",
      "text/plain": [
       "<Figure size 360x360 with 1 Axes>"
      ]
     },
     "metadata": {
      "needs_background": "light"
     },
     "output_type": "display_data"
    },
    {
     "data": {
      "image/png": "[encoded data removed]",
      "text/plain": [
       "<Figure size 360x360 with 1 Axes>"
      ]
     },
     "metadata": {
      "needs_background": "light"
     },
     "output_type": "display_data"
    },
    {
     "data": {
      "image/png": "[encoded data removed]",
      "text/plain": [
       "<Figure size 432x288 with 1 Axes>"
      ]
     },
     "metadata": {
      "needs_background": "light"
     },
     "output_type": "display_data"
    },
    {
     "data": {
      "image/png": "[encoded data removed]",
      "text/plain": [
       "<Figure size 432x288 with 1 Axes>"
      ]
     },
     "metadata": {
      "needs_background": "light"
     },
     "output_type": "display_data"
    },
    {
     "data": {
      "image/png": "[encoded data removed]",
      "text/plain": [
       "<Figure size 432x288 with 1 Axes>"
      ]
     },
     "metadata": {
      "needs_background": "light"
     },
     "output_type": "display_data"
    },
    {
     "data": {
      "image/png": "[encoded data removed]",
      "text/plain": [
       "<Figure size 432x288 with 1 Axes>"
      ]
     },
     "metadata": {
      "needs_background": "light"
     },
     "output_type": "display_data"
    },
    {
     "data": {
      "image/png": "[encoded data removed]",
      "text/plain": [
       "<Figure size 432x288 with 1 Axes>"
      ]
     },
     "metadata": {
      "needs_background": "light"
     },
     "output_type": "display_data"
    },
    {
     "data": {
      "image/png": "[encoded data removed]",
      "text/plain": [
       "<Figure size 432x288 with 1 Axes>"
      ]
     },
     "metadata": {
      "needs_background": "light"
     },
     "output_type": "display_data"
    },
    {
     "data": {
      "image/png": "[encoded data removed]",
      "text/plain": [
       "<Figure size 432x288 with 1 Axes>"
      ]
     },
     "metadata": {
      "needs_background": "light"
     },
     "output_type": "display_data"
    },
    {
     "data": {
      "image/png": "[encoded data removed]",
      "text/plain": [
       "<Figure size 432x288 with 1 Axes>"
      ]
     },
     "metadata": {
      "needs_background": "light"
     },
     "output_type": "display_data"
    },
    {
     "data": {
      "image/png": "[encoded data removed]",
      "text/plain": [
       "<Figure size 360x360 with 1 Axes>"
      ]
     },
     "metadata": {
      "needs_background": "light"
     },
     "output_type": "display_data"
    },
    {
     "data": {
      "image/png": "[encoded data removed]",
      "text/plain": [
       "<Figure size 360x360 with 1 Axes>"
      ]
     },
     "metadata": {
      "needs_background": "light"
     },
     "output_type": "display_data"
    },
    {
     "data": {
      "image/png": "[encoded data removed]",
      "text/plain": [
       "<Figure size 360x360 with 1 Axes>"
      ]
     },
     "metadata": {
      "needs_background": "light"
     },
     "output_type": "display_data"
    },
    {
     "data": {
      "image/png": "[encoded data removed]",
      "text/plain": [
       "<Figure size 360x360 with 1 Axes>"
      ]
     },
     "metadata": {
      "needs_background": "light"
     },
     "output_type": "display_data"
    },
    {
     "data": {
      "image/png": "[encoded data removed]",
      "text/plain": [
       "<Figure size 360x360 with 1 Axes>"
      ]
     },
     "metadata": {
      "needs_background": "light"
     },
     "output_type": "display_data"
    },
    {
     "data": {
      "image/png": "[encoded data removed]",
      "text/plain": [
       "<Figure size 360x360 with 1 Axes>"
      ]
     },
     "metadata": {
      "needs_background": "light"
     },
     "output_type": "display_data"
    },
    {
     "data": {
      "image/png": "[encoded data removed]",
      "text/plain": [
       "<Figure size 360x360 with 1 Axes>"
      ]
     },
     "metadata": {
      "needs_background": "light"
     },
     "output_type": "display_data"
    },
    {
     "data": {
      "image/png": "[encoded data removed]",
      "text/plain": [
       "<Figure size 360x360 with 1 Axes>"
      ]
     },
     "metadata": {
      "needs_background": "light"
     },
     "output_type": "display_data"
    },
    {
     "data": {
      "image/png": "[encoded data removed]",
      "text/plain": [
       "<Figure size 360x360 with 1 Axes>"
      ]
     },
     "metadata": {
      "needs_background": "light"
     },
     "output_type": "display_data"
    },
    {
     "data": {
      "image/png": "[encoded data removed]",
      "text/plain": [
       "<Figure size 360x360 with 1 Axes>"
      ]
     },
     "metadata": {
      "needs_background": "light"
     },
     "output_type": "display_data"
    }
   ],
   "source": [
    "grade_df = pd.merge(math_df, port_df, how = 'outer')  # outer joining the two dataframes to make visualization simpler\n",
    "for column in grade_df.columns:                       #plotting all of the columns w/ respect to G3\n",
    "    if type(grade_df[column][0]) == str:\n",
    "        plt.figure()\n",
    "        sns.barplot(x = column, y = 'G3', data = grade_df, palette='Blues_d')\n",
    "    else:\n",
    "        sns.lmplot(x = column, y = 'G3', data = grade_df, x_estimator = np.mean, fit_reg = False, x_ci=90)\n",
    "plt.show()"
   ]
  },
  {
   "cell_type": "markdown",
   "metadata": {},
   "source": [
    "\n",
    "As expected, the first and second third grades (G1 and G2) correlate strongly with the final grade (G3).\n",
    "\n",
    "One of the more interesting observations comes when looking at the students health with respect to final grade. Here a significant negative correlation exists. Indicating that the poorer a students health, the better their grades on average. More work is needed to understand this.\n",
    "\n",
    "Some other correlations which can be observed are the influence of weekday and weekend alcohol consumption on academic performance. The graphs for both indicate a negative correlation, it may be useful to even group the two if the correlation between them is strong. Another correlation which fits quite well with assumptions is the 'G3 vs. Higher' graph, which shows the preference for higher education in some students. As one would expect, a preference for higher education correlates positively with final grade. \n",
    "\n",
    "Aside from the general goal of finding what most influences a students academic success. Another interesting goal might be to understand what 'independent' variables are correlated with one another. For instance, in the case of student health and quality of family life, the two variables are related. It may be possible that other independent variables are related. And as such, one might be able to minimize the variables which are used to assess student performance. Further, This will also aid in our modelling process when machine learning is used. "
   ]
  },
  {
   "cell_type": "markdown",
   "metadata": {},
   "source": [
    "# Potential Hypothesis to Test"
   ]
  },
  {
   "cell_type": "markdown",
   "metadata": {},
   "source": [
    "A hypothesis which can be made and easily verified is that health and quality of family life should be positively correlated. This being because they most likely affect one another in some way. As shown below, one can see this to be true, that there is a positive correlation. However, this leads us to another interesting question. How is it that health and quality of family life are both positively correlated with one another, but they both affect the final grade in different ways? That is, how does good health negatively affect grades while high quality family life positively affects grades? Further investigation will be done to understand this apparent anomaly."
   ]
  },
  {
   "cell_type": "code",
   "execution_count": 118,
   "metadata": {},
   "outputs": [
    {
     "data": {
      "image/png": "[encoded data removed]",
      "text/plain": [
       "<Figure size 360x360 with 1 Axes>"
      ]
     },
     "metadata": {
      "needs_background": "light"
     },
     "output_type": "display_data"
    }
   ],
   "source": [
    "sns.lmplot(x = 'famrel', y = 'health', data = grade_df, x_estimator = np.mean, fit_reg = True)\n",
    "plt.show()"
   ]
  },
  {
   "cell_type": "markdown",
   "metadata": {},
   "source": [
    "# Hypothesis Testing: Intra-Country Data Source"
   ]
  },
  {
   "cell_type": "markdown",
   "metadata": {},
   "source": [
    "### Numerical Intra-Country Testing\n",
    "\n",
    "To test the strength of correlation between different independent and dependent variables for the intra country data source, a hypothesis test is performed below. The basic premise is: if there is a correlation between two random variables (X,Y), a non-zero Pearson correlation coefficient, $\\rho_{XY}$, will be observed. Hence the following hypotheses can be postulated:\n",
    "\n",
    "$H_0$: there is no correlation between a pair of random variables (X,Y), hence $\\rho_{XY}=0$\n",
    "\n",
    "$H_A$: there is a correlation between a pair of random variables (X,Y), $\\rho_{XY}\\neq0$\n",
    "\n",
    "### Categorical Intra-Country Testing\n",
    "\n",
    "To test whether the categorical variables have statistical significance a two-sample bootstrap test is used. We test, such that the highest and lowest average values for a category (as determined by the respective bar graphs) are compared to one another. It should be noted that only some variables have significance which can be easily determined from the plots. That is, when two confidence intervals overlap for the categories, the variable should be statistically insignificant. Consequently one can choose to only focus on those which have no overlap. Therefore, our hypothesis test is as follows:\n",
    "\n",
    "$H_0$: the difference between the highest and lowest mean values in a category is zero\n",
    "\n",
    "$H_A$: the difference between the highest and lowest mean values in a category is non-zero\n",
    "\n",
    "From the p-values one can then determine the relative significance of each variable. "
   ]
  },
  {
   "cell_type": "code",
   "execution_count": 119,
   "metadata": {
    "scrolled": false
   },
   "outputs": [
    {
     "data": {
      "text/html": [
       "<div>\n",
       "<style scoped>\n",
       "    .dataframe tbody tr th:only-of-type {\n",
       "        vertical-align: middle;\n",
       "    }\n",
       "\n",
       "    .dataframe tbody tr th {\n",
       "        vertical-align: top;\n",
       "    }\n",
       "\n",
       "    .dataframe thead th {\n",
       "        text-align: right;\n",
       "    }\n",
       "</style>\n",
       "<table border=\"1\" class=\"dataframe\">\n",
       "  <thead>\n",
       "    <tr style=\"text-align: right;\">\n",
       "      <th></th>\n",
       "      <th>p-value</th>\n",
       "      <th>pearson_corr</th>\n",
       "    </tr>\n",
       "  </thead>\n",
       "  <tbody>\n",
       "    <tr>\n",
       "      <th>G2 with G3</th>\n",
       "      <td>0.000000e+00</td>\n",
       "      <td>0.910743</td>\n",
       "    </tr>\n",
       "    <tr>\n",
       "      <th>G1 with G2</th>\n",
       "      <td>7.649931e-305</td>\n",
       "      <td>0.858739</td>\n",
       "    </tr>\n",
       "    <tr>\n",
       "      <th>G1 with G3</th>\n",
       "      <td>7.556322e-243</td>\n",
       "      <td>0.809142</td>\n",
       "    </tr>\n",
       "    <tr>\n",
       "      <th>Medu with Fedu</th>\n",
       "      <td>2.167656e-122</td>\n",
       "      <td>0.642063</td>\n",
       "    </tr>\n",
       "    <tr>\n",
       "      <th>Dalc with Walc</th>\n",
       "      <td>1.609078e-115</td>\n",
       "      <td>0.627814</td>\n",
       "    </tr>\n",
       "  </tbody>\n",
       "</table>\n",
       "</div>"
      ],
      "text/plain": [
       "                      p-value  pearson_corr\n",
       "G2 with G3       0.000000e+00      0.910743\n",
       "G1 with G2      7.649931e-305      0.858739\n",
       "G1 with G3      7.556322e-243      0.809142\n",
       "Medu with Fedu  2.167656e-122      0.642063\n",
       "Dalc with Walc  1.609078e-115      0.627814"
      ]
     },
     "execution_count": 119,
     "metadata": {},
     "output_type": "execute_result"
    }
   ],
   "source": [
    "# HYPOTHESIS TESTING FOR NUMERICAL VARIABLES IN INTRA-COUNTRY DATA SOURCE\n",
    "\n",
    "p = dict()  # initialize dictionary to store correlations and p-values\n",
    "\n",
    "\n",
    "# taking all numerical value columns and determining the p-values for pearson correlation coeff.. \n",
    "for column1 in grade_df.columns:        \n",
    "    for column2 in grade_df.columns:\n",
    "        if (type(grade_df[column1][0]) != str) & (type(grade_df[column2][0]) != str):\n",
    "            (corr, p_val) = stats.pearsonr(grade_df[column1].astype(float), grade_df[column2].astype(float))\n",
    "            if (p_val < .05) & (column1 != column2):\n",
    "                p[column1+' with '+column2] = [p_val, corr]\n",
    "                \n",
    "# converting to dataframe with p-values and pearson correlation coef. values                \n",
    "corr_df = pd.DataFrame.from_dict(p, orient='index')\n",
    "corr_df.rename(columns = {0:'p-value', 1:'pearson_corr'}, inplace=True)\n",
    "corr_df.drop_duplicates('p-value', keep='first', inplace=True)\n",
    "corr_df = corr_df.sort_values(by=['p-value'])\n",
    "corr_df.head()"
   ]
  },
  {
   "cell_type": "markdown",
   "metadata": {},
   "source": [
    "One can visualize the correlation a bit more easily with a heat map as shown below:"
   ]
  },
  {
   "cell_type": "code",
   "execution_count": 120,
   "metadata": {},
   "outputs": [
    {
     "data": {
      "image/png": "[encoded data removed]",
      "text/plain": [
       "<Figure size 432x288 with 2 Axes>"
      ]
     },
     "metadata": {
      "needs_background": "light"
     },
     "output_type": "display_data"
    }
   ],
   "source": [
    "sns.heatmap(np.abs(grade_df.corr()))\n",
    "plt.show()"
   ]
  },
  {
   "cell_type": "code",
   "execution_count": 121,
   "metadata": {},
   "outputs": [
    {
     "name": "stdout",
     "output_type": "stream",
     "text": [
      "['address_G3 p-value: 4e-05', 'mjob_G3 p-value: 0.0', 'reason_G3 p-value: 4e-05', 'guardian_G3 p-value: 0.00166', 'schoolsup_G3 p-value: 0.00016', 'higher_G3 p-value: 0.0', 'internet_G3 p-value: 0.00034', 'romantic_G3 p-value: 0.00114']\n"
     ]
    }
   ],
   "source": [
    "# HYPOTHESIS TESTING FOR CATEGORICAL VARIABLES IN INTRA-COUNTRY DATA SOURCE\n",
    "\n",
    "def draw_bs_reps(data, func, size=1):\n",
    "    \"\"\"Draw bootstrap replicates.\"\"\"\n",
    "\n",
    "    # Initialize array of replicates: bs_replicates\n",
    "    bs_replicates = np.empty(size)\n",
    "    # Generate replicates\n",
    "    for i in range(size):\n",
    "        bs_replicates[i] = func(np.random.choice(data, size=len(data)))\n",
    "    return bs_replicates\n",
    "\n",
    "def diff_of_means(data_1, data_2):\n",
    "    \"\"\"Difference in means of two arrays.\"\"\"\n",
    "\n",
    "    # The difference of means of data_1, data_2: diff\n",
    "    diff = np.mean(data_1) - np.mean(data_2)\n",
    "\n",
    "    return diff\n",
    "\n",
    "# arrays for comparing significant categorical variables\n",
    "address_G3 = [grade_df.loc[grade_df['address']=='U'].G3, grade_df.loc[grade_df['address']=='R'].G3]\n",
    "mjob_G3 = [grade_df.loc[grade_df['Mjob']=='health'].G3, grade_df.loc[grade_df['Mjob']=='at_home'].G3]\n",
    "reason_G3 = [grade_df.loc[grade_df['reason']=='reputation'].G3, grade_df.loc[grade_df['reason']=='course'].G3]\n",
    "guardian_G3 = [grade_df.loc[grade_df['guardian']=='father'].G3, grade_df.loc[grade_df['guardian']=='other'].G3]\n",
    "schoolsup_G3 = [grade_df.loc[grade_df['schoolsup']=='yes'].G3, grade_df.loc[grade_df['schoolsup']=='no'].G3]\n",
    "higher_G3 = [grade_df.loc[grade_df['higher']=='yes'].G3, grade_df.loc[grade_df['higher']=='no'].G3]\n",
    "internet_G3 = [grade_df.loc[grade_df['internet']=='yes'].G3, grade_df.loc[grade_df['internet']=='no'].G3]\n",
    "romantic_G3 = [grade_df.loc[grade_df['romantic']=='yes'].G3, grade_df.loc[grade_df['romantic']=='no'].G3]\n",
    "\n",
    "cat_list = [address_G3, mjob_G3, reason_G3, guardian_G3, schoolsup_G3, higher_G3, internet_G3, romantic_G3]\n",
    "cat_listnames = ['address_G3', 'mjob_G3', 'reason_G3', 'guardian_G3', 'schoolsup_G3', 'higher_G3', 'internet_G3', 'romantic_G3']\n",
    "p = []\n",
    "for index, cat in enumerate(cat_list):\n",
    "    \n",
    "    mean_both = np.mean(cat[0].append(cat[1]))\n",
    "    empirical_diff_means = cat[0].mean() - cat[1].mean()\n",
    "\n",
    "    # Generate shifted arrays\n",
    "    cat_0 = cat[0] - np.mean(cat[0]) + mean_both\n",
    "    cat_1 = cat[1] - np.mean(cat[1]) + mean_both\n",
    "\n",
    "    # Compute 50,000 bootstrap replicates from shifted arrays\n",
    "    bsrep_cat1 = draw_bs_reps(cat_0, np.mean, 50000)\n",
    "    bsrep_cat0 = draw_bs_reps(cat_1, np.mean, 50000)\n",
    "\n",
    "    # Get replicates of difference of means: bs_replicates\n",
    "    bs_replicates = bsrep_cat1 - bsrep_cat0\n",
    "\n",
    "    # Compute and print p-value: p\n",
    "    p.append(cat_listnames[index] + ' p-value: ' + str(float(np.sum(bs_replicates >= np.abs(empirical_diff_means))) / len(bs_replicates)))\n",
    "#     print('p-value = ' + str(p))\n",
    "print(p)"
   ]
  },
  {
   "cell_type": "code",
   "execution_count": null,
   "metadata": {},
   "outputs": [],
   "source": []
  },
  {
   "cell_type": "markdown",
   "metadata": {},
   "source": [
    "# Analysis of Hypothesis Testing: Intra-Country Data Source"
   ]
  },
  {
   "cell_type": "markdown",
   "metadata": {},
   "source": [
    "### Numerical Intra-Country Analysis \n",
    "\n",
    "using scipy.stats.pearsonr, the p-value along with $\\rho_{XY}$ is calculated. Any p-value less than .05 is discarded as statistically insignificant. All of the remaining p-values are kept and stored in the dataframe below. There are 83 pairs of variables within this dataset which have a statistically significant correlation between them. Of course, some are more significant than others and so the dataframe is put in descending order with the first value being the most statistically significant. \n",
    "\n",
    "As expected, the variables with the most significance to one another are the grades (G1, G2, G3) with one another. Interestingly however, the next most significant correlation exists between mothers education and fathers education. Then following with weekend alcohol consumption correlating with M-F alcohol consumption. These correlations are important for our analysis. \n",
    "\n",
    "Also, one can answer the apparent anomaly which appears in the earlier 'Potential Hypothesis to Test' section. Indeed the health and quality of family relationship do have a statistically significant correlation. However, only the health of the student is significantly correlated with G3 and not the quality of family relationship (famrel). Consequently, the apparent anomaly from inverse correlation of famrel is non-existant. \n",
    "\n",
    "The end goal is to determine what most affects G3, and as such we can look at the $\\rho_{XY}$ values to see which variables are most important. However, the relationship between independent variables is of importance too when utilizing machine learning models. That is, pairs of independent variables with high correlation can have one of the variables neglected. In example, since mothers education and fathers education are strongly correlated, one can be neglected in certain machine learning models. This will help to increase the accuracy of certain models. \n",
    "\n",
    "### Categorical Intra-Country Analysis\n",
    "\n",
    "From the two-sample bootstrap method one can see all of the variables which were deemed to be significant. The eight which were chose (address, mjob, reason, guardian, schoolsup, higher, internet, romantic) were chosen because they had no overlap in the confidence intervals for the two outermost average values, as can be seen in the above bar graphs. Further, from the p-values one can see they are all indeed statistically significant, and the two most significant are: mothers job (mjob) and whether the student wishes to pursue higher education (higher). While the least significant is the difference of guardian value, which makes sense from the guardian bar graph."
   ]
  },
  {
   "cell_type": "markdown",
   "metadata": {},
   "source": [
    "# Analysis of Hypothesis Testing: Inter-Country Data Source"
   ]
  },
  {
   "cell_type": "code",
   "execution_count": 122,
   "metadata": {},
   "outputs": [
    {
     "name": "stdout",
     "output_type": "stream",
     "text": [
      "correlation coefficient for spending is: 0.19002983125817616 p-value is: 0.4222806290715796\n",
      "correlation coefficient for class size is: -0.16184788606958217 p-value is: 0.41993720050848293\n"
     ]
    }
   ],
   "source": [
    "# HYPOTHESIS TESTING FOR NUMERICAL VARIABLES IN INTER-COUNTRY DATA SOURCE\n",
    "\n",
    "(corr_spend, p_val_spend) = stats.pearsonr(PISA_spend_df['% of government expenditure on education'], PISA_spend_df['avg_grade'])\n",
    "(corr_size, p_val_size) = stats.pearsonr(PISA_size_df['class_size'], PISA_size_df['avg_grade'])\n",
    "print('correlation coefficient for spending is: ' + str(corr_spend), 'p-value is: ' + str(p_val_spend))\n",
    "print('correlation coefficient for class size is: ' + str(corr_size), 'p-value is: ' + str(p_val_size))"
   ]
  },
  {
   "cell_type": "markdown",
   "metadata": {},
   "source": [
    "# Analysis of Hypothesis Testing contd.\n",
    "\n",
    "From the above we can see that althought there are slight trends in the inter-country data in regards to their impact on the PISA grade, it is minimal. Since the p-value >> .05 we reject the null hypothesis. Therefore, we conclude the classroom size and the % of GDP spent on education has a statiscally insignificant effect on the PISA grades. \n",
    "\n",
    "Consequently, the inter-country data will be discarded for the remainder of the discussion about determining which factors most affect a students academic success. That being said, it is possible other factors play a role which were not accounted for. For example, other variables such as teacher salary were not included. Also, it may be worthwhile to consider the effects of classroom size and % of GDP spent on education as it pertains to only developed countries. It may be possible that a lower p-value will be observed and the variables deemed statistically significant. "
   ]
  },
  {
   "cell_type": "markdown",
   "metadata": {},
   "source": [
    "# Potential Machine Learning Testing Method"
   ]
  },
  {
   "cell_type": "markdown",
   "metadata": {},
   "source": [
    "### The way the models will be trained is in the following way so we can predict accuracy:\n",
    "\n",
    "1.) With G2 and G1 included in prediction of G3\n",
    "\n",
    "2.) With G2 and G1 included, and also removing some correlated independent variables to predict G3\n",
    "\n",
    "3.) Without G2 and G1 included in prediction for G3\n",
    "\n",
    "4.) Without G2 and G1 included, and also removing some correlated independent variables to predict G3\n",
    "\n",
    "CLearly those models without G2 and G1 will have the least predictive accuracy. But it is important to consider them because G2 and G1 are variables which occur after part of the year is already over (which is not as useful for determining at risk students before the year begins). \n",
    "\n",
    "### the determination of G3 will be split in the following way:\n",
    "\n",
    "1.) Binary: pass (if G3 >= 10), fail (if G3 < 10)\n",
    "\n",
    "2.) 5-level classification: using the following scheme: A:(16-20), B:(14-15), C:(12-13), D:(10-11), F(0-9)\n",
    "    \n",
    "    we'll let A=1, B=2, C=3, D=4, F=5\n",
    "\n",
    "3.) Regression: using G3 value\n",
    "\n",
    "This follows closely to the classification scheme which is used in the academic paper which the original data comes from. "
   ]
  },
  {
   "cell_type": "code",
   "execution_count": 123,
   "metadata": {},
   "outputs": [
    {
     "data": {
      "image/png": "[encoded data removed]",
      "text/plain": [
       "<Figure size 360x360 with 1 Axes>"
      ]
     },
     "metadata": {
      "needs_background": "light"
     },
     "output_type": "display_data"
    }
   ],
   "source": [
    "sns.lmplot(x = 'Fedu', y = 'Medu', data = grade_df, x_estimator = np.mean, fit_reg = False, x_ci=90)\n",
    "plt.show()"
   ]
  },
  {
   "cell_type": "markdown",
   "metadata": {},
   "source": [
    "# Machine Learning"
   ]
  },
  {
   "cell_type": "markdown",
   "metadata": {},
   "source": [
    "First columns needs to be added for the binary classification and 5-level classification."
   ]
  },
  {
   "cell_type": "code",
   "execution_count": 124,
   "metadata": {},
   "outputs": [
    {
     "data": {
      "text/html": [
       "<div>\n",
       "<style scoped>\n",
       "    .dataframe tbody tr th:only-of-type {\n",
       "        vertical-align: middle;\n",
       "    }\n",
       "\n",
       "    .dataframe tbody tr th {\n",
       "        vertical-align: top;\n",
       "    }\n",
       "\n",
       "    .dataframe thead th {\n",
       "        text-align: right;\n",
       "    }\n",
       "</style>\n",
       "<table border=\"1\" class=\"dataframe\">\n",
       "  <thead>\n",
       "    <tr style=\"text-align: right;\">\n",
       "      <th></th>\n",
       "      <th>school</th>\n",
       "      <th>sex</th>\n",
       "      <th>age</th>\n",
       "      <th>address</th>\n",
       "      <th>famsize</th>\n",
       "      <th>Pstatus</th>\n",
       "      <th>Medu</th>\n",
       "      <th>Fedu</th>\n",
       "      <th>Mjob</th>\n",
       "      <th>Fjob</th>\n",
       "      <th>...</th>\n",
       "      <th>famrel</th>\n",
       "      <th>freetime</th>\n",
       "      <th>goout</th>\n",
       "      <th>Dalc</th>\n",
       "      <th>Walc</th>\n",
       "      <th>health</th>\n",
       "      <th>G1</th>\n",
       "      <th>G2</th>\n",
       "      <th>G3</th>\n",
       "      <th>abs_group</th>\n",
       "    </tr>\n",
       "  </thead>\n",
       "  <tbody>\n",
       "    <tr>\n",
       "      <th>0</th>\n",
       "      <td>GP</td>\n",
       "      <td>F</td>\n",
       "      <td>18</td>\n",
       "      <td>U</td>\n",
       "      <td>GT3</td>\n",
       "      <td>A</td>\n",
       "      <td>4</td>\n",
       "      <td>4</td>\n",
       "      <td>at_home</td>\n",
       "      <td>teacher</td>\n",
       "      <td>...</td>\n",
       "      <td>4</td>\n",
       "      <td>3</td>\n",
       "      <td>4</td>\n",
       "      <td>1</td>\n",
       "      <td>1</td>\n",
       "      <td>3</td>\n",
       "      <td>5</td>\n",
       "      <td>6</td>\n",
       "      <td>6</td>\n",
       "      <td>3.0</td>\n",
       "    </tr>\n",
       "    <tr>\n",
       "      <th>1</th>\n",
       "      <td>GP</td>\n",
       "      <td>F</td>\n",
       "      <td>17</td>\n",
       "      <td>U</td>\n",
       "      <td>GT3</td>\n",
       "      <td>T</td>\n",
       "      <td>1</td>\n",
       "      <td>1</td>\n",
       "      <td>at_home</td>\n",
       "      <td>other</td>\n",
       "      <td>...</td>\n",
       "      <td>5</td>\n",
       "      <td>3</td>\n",
       "      <td>3</td>\n",
       "      <td>1</td>\n",
       "      <td>1</td>\n",
       "      <td>3</td>\n",
       "      <td>5</td>\n",
       "      <td>5</td>\n",
       "      <td>6</td>\n",
       "      <td>3.0</td>\n",
       "    </tr>\n",
       "    <tr>\n",
       "      <th>2</th>\n",
       "      <td>GP</td>\n",
       "      <td>F</td>\n",
       "      <td>15</td>\n",
       "      <td>U</td>\n",
       "      <td>LE3</td>\n",
       "      <td>T</td>\n",
       "      <td>1</td>\n",
       "      <td>1</td>\n",
       "      <td>at_home</td>\n",
       "      <td>other</td>\n",
       "      <td>...</td>\n",
       "      <td>4</td>\n",
       "      <td>3</td>\n",
       "      <td>2</td>\n",
       "      <td>2</td>\n",
       "      <td>3</td>\n",
       "      <td>3</td>\n",
       "      <td>7</td>\n",
       "      <td>8</td>\n",
       "      <td>10</td>\n",
       "      <td>4.0</td>\n",
       "    </tr>\n",
       "    <tr>\n",
       "      <th>3</th>\n",
       "      <td>GP</td>\n",
       "      <td>F</td>\n",
       "      <td>15</td>\n",
       "      <td>U</td>\n",
       "      <td>GT3</td>\n",
       "      <td>T</td>\n",
       "      <td>4</td>\n",
       "      <td>2</td>\n",
       "      <td>health</td>\n",
       "      <td>services</td>\n",
       "      <td>...</td>\n",
       "      <td>3</td>\n",
       "      <td>2</td>\n",
       "      <td>2</td>\n",
       "      <td>1</td>\n",
       "      <td>1</td>\n",
       "      <td>5</td>\n",
       "      <td>15</td>\n",
       "      <td>14</td>\n",
       "      <td>15</td>\n",
       "      <td>2.0</td>\n",
       "    </tr>\n",
       "    <tr>\n",
       "      <th>4</th>\n",
       "      <td>GP</td>\n",
       "      <td>F</td>\n",
       "      <td>16</td>\n",
       "      <td>U</td>\n",
       "      <td>GT3</td>\n",
       "      <td>T</td>\n",
       "      <td>3</td>\n",
       "      <td>3</td>\n",
       "      <td>other</td>\n",
       "      <td>other</td>\n",
       "      <td>...</td>\n",
       "      <td>4</td>\n",
       "      <td>3</td>\n",
       "      <td>2</td>\n",
       "      <td>1</td>\n",
       "      <td>2</td>\n",
       "      <td>5</td>\n",
       "      <td>6</td>\n",
       "      <td>10</td>\n",
       "      <td>10</td>\n",
       "      <td>3.0</td>\n",
       "    </tr>\n",
       "  </tbody>\n",
       "</table>\n",
       "<p>5 rows × 33 columns</p>\n",
       "</div>"
      ],
      "text/plain": [
       "  school sex  age address famsize Pstatus  Medu  Fedu     Mjob      Fjob  ...  \\\n",
       "0     GP   F   18       U     GT3       A     4     4  at_home   teacher  ...   \n",
       "1     GP   F   17       U     GT3       T     1     1  at_home     other  ...   \n",
       "2     GP   F   15       U     LE3       T     1     1  at_home     other  ...   \n",
       "3     GP   F   15       U     GT3       T     4     2   health  services  ...   \n",
       "4     GP   F   16       U     GT3       T     3     3    other     other  ...   \n",
       "\n",
       "  famrel freetime  goout  Dalc  Walc health  G1  G2  G3 abs_group  \n",
       "0      4        3      4     1     1      3   5   6   6       3.0  \n",
       "1      5        3      3     1     1      3   5   5   6       3.0  \n",
       "2      4        3      2     2     3      3   7   8  10       4.0  \n",
       "3      3        2      2     1     1      5  15  14  15       2.0  \n",
       "4      4        3      2     1     2      5   6  10  10       3.0  \n",
       "\n",
       "[5 rows x 33 columns]"
      ]
     },
     "execution_count": 124,
     "metadata": {},
     "output_type": "execute_result"
    }
   ],
   "source": [
    "grade_df.head()"
   ]
  },
  {
   "cell_type": "code",
   "execution_count": 125,
   "metadata": {},
   "outputs": [],
   "source": [
    "# Binary classification setup\n",
    "grade_df.loc[grade_df.G3>=10, 'pass_fail'] = 1\n",
    "grade_df.loc[grade_df.G3<10, 'pass_fail'] = 0\n",
    "\n",
    "# 5-level classification setup\n",
    "grade_df.loc[grade_df.G3>=16, 'grade'] = 5   # A\n",
    "grade_df.loc[(grade_df.G3<16) & (grade_df.G3>13), 'grade'] = 4   # B\n",
    "grade_df.loc[(grade_df.G3 >= 12) & (grade_df.G3<=13), 'grade'] = 3   # C\n",
    "grade_df.loc[(grade_df.G3>=10) & (grade_df.G3<=11), 'grade'] = 2   # D\n",
    "grade_df.loc[grade_df.G3<=9, 'grade'] = 1   # F\n",
    "\n",
    "# Get dummy variables for categorical features.\n",
    "# This is necessary to perform the analysis\n",
    "\n",
    "grade_dummies_df = pd.get_dummies(grade_df)"
   ]
  },
  {
   "cell_type": "code",
   "execution_count": 126,
   "metadata": {},
   "outputs": [],
   "source": [
    "# Importing proper libraries\n",
    "from sklearn.model_selection import GridSearchCV\n",
    "from sklearn.model_selection import train_test_split\n",
    "from sklearn.model_selection import cross_validate\n",
    "from sklearn.linear_model import SGDClassifier\n",
    "from sklearn.linear_model import Ridge\n",
    "from sklearn.metrics import accuracy_score\n",
    "from sklearn.metrics import r2_score\n",
    "from sklearn.metrics import precision_recall_curve\n",
    "from sklearn.preprocessing import StandardScaler\n",
    "from sklearn.pipeline import Pipeline\n",
    "from sklearn.metrics import f1_score\n",
    "from sklearn.metrics import mean_squared_error\n",
    "from sklearn import svm"
   ]
  },
  {
   "cell_type": "markdown",
   "metadata": {},
   "source": [
    "First we'll do the pass fail binary test without the G1 and G2 grades. For the binary and 5-level test we're performing classification. Since the data is not too large (greater than 10k), an SGD classifier will be used. Specifically SGD is used with both log and linear SVM loss functions. In all cases the log loss function performed better.\n",
    "\n",
    "Further, in each test normalization will be done to each feature using the StandardScaler() method. Using a pipeline this is combined with the classifier and then grid searched with cross validation. "
   ]
  },
  {
   "cell_type": "markdown",
   "metadata": {},
   "source": [
    "### Binary pass/fail test "
   ]
  },
  {
   "cell_type": "code",
   "execution_count": 127,
   "metadata": {
    "scrolled": true
   },
   "outputs": [
    {
     "name": "stdout",
     "output_type": "stream",
     "text": [
      "accuracy score without G1 & G2 is: 0.8181818181818182\n",
      "accuracy score with G1 & G2 is: 0.8851674641148325\n"
     ]
    }
   ],
   "source": [
    "X_wo = grade_dummies_df.drop(['G3','pass_fail', 'grade', 'G1', 'G2'], axis=1).values # features without G1 & G2\n",
    "X_w = grade_dummies_df.drop(['G3','pass_fail', 'grade'], axis=1).values # features with G1 & G2\n",
    "X_array = [X_wo, X_w]\n",
    "i = 1\n",
    "for X in X_array:\n",
    "    y = grade_dummies_df.pass_fail.values\n",
    "    X_train, X_test, y_train, y_test = train_test_split(X, y, random_state=5, test_size=0.2)\n",
    "    scaler = StandardScaler()\n",
    "    SGD = SGDClassifier(loss='log', tol=1e-3, max_iter=1000, n_jobs=-1, random_state=5)\n",
    "    SGD_scaled = Pipeline(steps=[('scaler',scaler), ('SGD',SGD)])     #Pipeline which includes scaling of the data\n",
    "    alphas = [.01, .05, .08, .03, .0050, .03, .1, 1, 10]        #Parameter values to test\n",
    "    # l1_ratios = []\n",
    "    param_grid = {'SGD__alpha':alphas}\n",
    "    SGD_gs = GridSearchCV(SGD_scaled, param_grid=param_grid, cv=5)   #Performing gridsearch with cross-validation\n",
    "    SGD_gs.fit(X_train, y_train)\n",
    "    y_predict = SGD_gs.predict(X_test)\n",
    "    while i == 1:\n",
    "        print('accuracy score without G1 & G2 is: ' + str(accuracy_score(y_test, y_predict)))\n",
    "        i += 1\n",
    "print('accuracy score with G1 & G2 is: ' + str(accuracy_score(y_test, y_predict)))"
   ]
  },
  {
   "cell_type": "markdown",
   "metadata": {},
   "source": [
    "The accuracy score for pass/fail without G1 and G2 is quite good. Approximately 82% of the students were correctly predicted. One would expect the accuracy to increase as G1 and G2 are added into the modeling. "
   ]
  },
  {
   "cell_type": "markdown",
   "metadata": {},
   "source": [
    "With G1 and G2 the pass/fail rate is correctly predicted on the testing set 89% of the time. This is an increase from without G1 and G2. "
   ]
  },
  {
   "cell_type": "markdown",
   "metadata": {},
   "source": [
    "### 5-level classification test"
   ]
  },
  {
   "cell_type": "code",
   "execution_count": 128,
   "metadata": {},
   "outputs": [
    {
     "name": "stdout",
     "output_type": "stream",
     "text": [
      "accuracy score without G1 & G2 is: 0.3349282296650718\n",
      "accuracy score with G1 & G2 is: 0.5167464114832536\n"
     ]
    }
   ],
   "source": [
    "i=1\n",
    "for X in X_array:\n",
    "    y = grade_dummies_df.grade.values\n",
    "    X_train, X_test, y_train, y_test = train_test_split(X, y, random_state=5, test_size=0.2)\n",
    "    scaler = StandardScaler()\n",
    "    SGD = SGDClassifier(loss='log', tol=1e-3, max_iter=1000, n_jobs=-1, random_state=5)\n",
    "    SGD_scaled = Pipeline(steps=[('scaler',scaler), ('SGD',SGD)])\n",
    "    alphas = [.01, .05, .08, .03, .0070, .03]\n",
    "    # l1_ratios = []\n",
    "    param_grid = {'SGD__alpha':alphas}\n",
    "    SGD_gs = GridSearchCV(SGD_scaled, param_grid=param_grid, cv=5, iid=True)\n",
    "    SGD_gs.fit(X_train, y_train)\n",
    "    y_predict = SGD_gs.predict(X_test)\n",
    "    while i == 1:\n",
    "        print('accuracy score without G1 & G2 is: ' + str(accuracy_score(y_test, y_predict)))\n",
    "        i += 1\n",
    "print('accuracy score with G1 & G2 is: ' + str(accuracy_score(y_test, y_predict)))"
   ]
  },
  {
   "cell_type": "markdown",
   "metadata": {},
   "source": [
    "The 5-level classification is predicted with less accuracy as compared to the pass/fail classification. This is to be expected. Note that without G1 and G2 the accuracy is quite low at 35%. This shows the model is not accurate in predicting the students letter grades. Only about 1/3 of students are correctly predicted. "
   ]
  },
  {
   "cell_type": "markdown",
   "metadata": {},
   "source": [
    "With the addition of G1 and G2 the accuracy increases dramatically. The prediction of the students letter grades is correct about half of the time. "
   ]
  },
  {
   "cell_type": "markdown",
   "metadata": {},
   "source": [
    "### G3 Regression analysis\n",
    "try Ridge Regression and LASSO"
   ]
  },
  {
   "cell_type": "markdown",
   "metadata": {},
   "source": [
    "For the regression analysis we employ the use of ridge regression. This is because there is some colinearity among the features of the data set, which will affect OLS linear regression. This colinearity is evident from the Pearson correlation coefficient values which were calculated above (e.g. mother and fathers education are highly correlated). As above, scaling of the features is done along with a grid search with 5-fold cross validation. "
   ]
  },
  {
   "cell_type": "code",
   "execution_count": 129,
   "metadata": {},
   "outputs": [
    {
     "name": "stdout",
     "output_type": "stream",
     "text": [
      "R^2 value without G1 & G2 is: 0.19905701059894487\n",
      "R^2 value with G1 & G2 is: 0.7630617002782814\n"
     ]
    }
   ],
   "source": [
    "i=1\n",
    "for X in X_array:\n",
    "    y = grade_dummies_df.G3.values\n",
    "    X_train, X_test, y_train, y_test = train_test_split(X, y, random_state=5, test_size=0.2)\n",
    "    scaler = StandardScaler()\n",
    "    ridge = Ridge()\n",
    "    ridge_scaled = Pipeline(steps=[('scaler',scaler), ('ridge',ridge)])\n",
    "    alphas = [430, 410, 420, 440]\n",
    "    param_grid = {'ridge__alpha':alphas}\n",
    "    ridge_gs = GridSearchCV(ridge_scaled, param_grid=param_grid, cv=5)\n",
    "    ridge_gs.fit(X_train, y_train)\n",
    "    y_predict = ridge_gs.predict(X_test)\n",
    "    while i==1:\n",
    "        print('R^2 value without G1 & G2 is: ' + str(r2_score(y_test, np.round(y_predict))))\n",
    "        i += 1        \n",
    "print('R^2 value with G1 & G2 is: ' + str(r2_score(y_test, np.round(y_predict))))"
   ]
  },
  {
   "cell_type": "markdown",
   "metadata": {},
   "source": [
    "Without G1 and G2 the $R^2$ value is quite low at 0.2. Since in this dataset, the regression is the most difficult to predict, this is not surprising. "
   ]
  },
  {
   "cell_type": "markdown",
   "metadata": {},
   "source": [
    "With the addition of G1 and G2 the $R^2$ value increases greatly. Note that in both cases the predicted values must be rounded when calculation the $R^2$ value. This is because the actual grade values can only be integers, but the regression will predict as any value. If these scores are to actually be used for prediction one should take the rounded integer values as the actual prediction."
   ]
  },
  {
   "cell_type": "code",
   "execution_count": 130,
   "metadata": {
    "scrolled": true
   },
   "outputs": [
    {
     "data": {
      "image/png": "[encoded data removed]",
      "text/plain": [
       "<Figure size 432x288 with 1 Axes>"
      ]
     },
     "metadata": {
      "needs_background": "light"
     },
     "output_type": "display_data"
    }
   ],
   "source": [
    "sns.regplot(y_test, np.round(y_predict), scatter_kws={'alpha':0.4}, fit_reg=0, y_jitter=0.3)\n",
    "plt.ylabel('Predicted G3')\n",
    "plt.xlabel('Actual G3')\n",
    "plt.ylim([-1,20])\n",
    "plt.xlim([-1,20])\n",
    "plt.xticks(np.linspace(0,20,11))\n",
    "plt.yticks(np.linspace(0,20,11))\n",
    "plt.show()"
   ]
  },
  {
   "cell_type": "markdown",
   "metadata": {},
   "source": [
    "Above one can see the plot between the actual final grades and the predicted grades. Note the G3 = 0 outliers which have a large degree of inaccuracy in the modelling. Although the actual dataset doesn't indicate what a value of G3 = 0 means, one might assume they imply a student has transferred to another school. This seems reasonable since there are many G3's which are zero that also have a G2 which is zero. But also these students records indicate they have not been missing classes. \n",
    "\n",
    "If it is the case that these students have left the school, that data should be discarded. Simply because it is not the models intent to predict which students will leave the school. Which is what a G3=0 value truly indicates. \n",
    "\n",
    "Consequently, the above modelling is done once more below with these values removed.  \n",
    "\n",
    "Note that this is approximately 5% of our dataset, which may produce some noticeable effects. "
   ]
  },
  {
   "cell_type": "markdown",
   "metadata": {},
   "source": [
    "### Modeling with G3=0 values removed"
   ]
  },
  {
   "cell_type": "code",
   "execution_count": 131,
   "metadata": {},
   "outputs": [],
   "source": [
    "grade_df_drop = grade_dummies_df\n",
    "grade_df_drop = grade_df_drop.loc[grade_df_drop.G3!=0]  # Remove G3=0 values"
   ]
  },
  {
   "cell_type": "markdown",
   "metadata": {},
   "source": [
    "### Binary Pass/Fail Classification"
   ]
  },
  {
   "cell_type": "code",
   "execution_count": 132,
   "metadata": {},
   "outputs": [
    {
     "name": "stdout",
     "output_type": "stream",
     "text": [
      "Log accuracy score without G1 & G2 is: 0.8542713567839196\n",
      "Log accuracy score with G1 & G2 is: 0.9246231155778895\n"
     ]
    }
   ],
   "source": [
    "X_wo = grade_df_drop.drop(['G3','pass_fail', 'grade', 'G1', 'G2'], axis=1).values # defining features with dropped values\n",
    "X_w = grade_df_drop.drop(['G3','pass_fail', 'grade'], axis=1).values \n",
    "X_array = [X_wo, X_w]\n",
    "i=1\n",
    "for X in X_array:\n",
    "    y = grade_df_drop.pass_fail.values\n",
    "    X_train, X_test, y_train, y_test = train_test_split(X, y, random_state=5, test_size=0.2)\n",
    "    scaler = StandardScaler()\n",
    "    SGD = SGDClassifier(loss='log', tol=1e-3, max_iter=1000, n_jobs=-1, random_state=5)\n",
    "    SGD_scaled = Pipeline(steps=[('scaler',scaler), ('SGD',SGD)])\n",
    "    alphas = [.01, .05, .08, .03, .0070, .03]\n",
    "    # l1_ratios = []\n",
    "    param_grid = {'SGD__alpha':alphas}\n",
    "    SGD_gs = GridSearchCV(SGD_scaled, param_grid=param_grid, cv=5)\n",
    "    SGD_gs.fit(X_train, y_train)\n",
    "    y_predict = SGD_gs.predict(X_test)\n",
    "    while i==1:\n",
    "        print('Log accuracy score without G1 & G2 is: ' + str(accuracy_score(y_test, y_predict)))\n",
    "        i += 1\n",
    "print('Log accuracy score with G1 & G2 is: ' + str(accuracy_score(y_test, y_predict)))"
   ]
  },
  {
   "cell_type": "code",
   "execution_count": 133,
   "metadata": {},
   "outputs": [
    {
     "name": "stdout",
     "output_type": "stream",
     "text": [
      "Gaussian SVM accuracy score without G1 & G2 is: 0.8592964824120602\n",
      "Gaussian SVM accuracy score with G1 & G2 is: 0.9296482412060302\n"
     ]
    }
   ],
   "source": [
    "# X = grade_df_drop[['failures', 'Medu', 'studytime', 'higher_yes', 'goout', 'internet_yes']].values # Defining the features\n",
    "i = 1\n",
    "for X in X_array:\n",
    "    y = grade_df_drop.pass_fail.values\n",
    "    X_train, X_test, y_train, y_test = train_test_split(X, y, random_state=5, test_size=0.2)\n",
    "    scaler = StandardScaler()\n",
    "    gaus_svm=svm.SVC(tol=1e-3, max_iter=-1, random_state=5)\n",
    "    gaus_svm_scaled = Pipeline(steps=[('scaler',scaler), ('gaus_svm',gaus_svm)])\n",
    "    Cs = [0.5, 1, 1.5, 2, 2.5, 3, 3.5, 4, 4.5, 5, 1000, 10000, 300]\n",
    "    param_grid = {'gaus_svm__C':Cs}\n",
    "    gaus_svm_gs = GridSearchCV(gaus_svm_scaled, param_grid=param_grid, cv=5)\n",
    "    gaus_svm_gs.fit(X_train, y_train)\n",
    "    y_predict = gaus_svm_gs.predict(X_test)\n",
    "    while i == 1:\n",
    "        print('Gaussian SVM accuracy score without G1 & G2 is: ' + str(accuracy_score(y_test, y_predict)))\n",
    "        i += 1\n",
    "print('Gaussian SVM accuracy score with G1 & G2 is: ' + str(accuracy_score(y_test, y_predict)))"
   ]
  },
  {
   "cell_type": "markdown",
   "metadata": {},
   "source": [
    "### 5-Level Classification"
   ]
  },
  {
   "cell_type": "code",
   "execution_count": 134,
   "metadata": {
    "scrolled": true
   },
   "outputs": [
    {
     "name": "stdout",
     "output_type": "stream",
     "text": [
      "accuracy score without G1 & G2 is: 0.3417085427135678\n",
      "accuracy score with G1 & G2 is: 0.5678391959798995\n"
     ]
    }
   ],
   "source": [
    "i = 1\n",
    "for X in X_array:\n",
    "    y = grade_df_drop.grade.values\n",
    "    X_train, X_test, y_train, y_test = train_test_split(X, y, random_state=5, test_size=0.2)\n",
    "    scaler = StandardScaler()\n",
    "    SGD = SGDClassifier(loss='log', tol=1e-3, max_iter=1000, n_jobs=-1, random_state=5)\n",
    "    SGD_scaled = Pipeline(steps=[('scaler',scaler), ('SGD',SGD)])\n",
    "    alphas = [.01, .05, .08, .03, .0070, .03]\n",
    "    # l1_ratios = []\n",
    "    param_grid = {'SGD__alpha':alphas}\n",
    "    SGD_gs = GridSearchCV(SGD_scaled, param_grid=param_grid, cv=5, iid=True)\n",
    "    SGD_gs.fit(X_train, y_train)\n",
    "    y_predict = SGD_gs.predict(X_test)\n",
    "    while i == 1:\n",
    "        print('accuracy score without G1 & G2 is: ' + str(accuracy_score(y_test, y_predict)))\n",
    "        i += 1\n",
    "print('accuracy score with G1 & G2 is: ' + str(accuracy_score(y_test, y_predict)))"
   ]
  },
  {
   "cell_type": "code",
   "execution_count": 135,
   "metadata": {
    "scrolled": true
   },
   "outputs": [
    {
     "name": "stdout",
     "output_type": "stream",
     "text": [
      "Gaussian SVM accuracy score without G1 & G2 is: 0.3065326633165829\n",
      "Gaussian SVM accuracy score with G1 & G2 is: 0.5226130653266332\n"
     ]
    }
   ],
   "source": [
    "i = 1\n",
    "for X in X_array:\n",
    "    y = grade_df_drop.grade.values\n",
    "    X_train, X_test, y_train, y_test = train_test_split(X, y, random_state=5, test_size=0.2)\n",
    "    scaler = StandardScaler()\n",
    "    gaus_svm=svm.SVC(tol=1e-3, max_iter=1000, random_state=5)\n",
    "    gaus_svm_scaled = Pipeline(steps=[('scaler',scaler), ('gaus_svm',gaus_svm)])\n",
    "    Cs = [1,2, 2.5, 3, 3.5, 4, 4.5, 5, 10,]\n",
    "    param_grid = {'gaus_svm__C':Cs}\n",
    "    gaus_svm_gs = GridSearchCV(gaus_svm_scaled, param_grid=param_grid, cv=5, iid=True)\n",
    "    gaus_svm_gs.fit(X_train, y_train)\n",
    "    y_predict = gaus_svm_gs.predict(X_test)\n",
    "    while i==1:\n",
    "        print('Gaussian SVM accuracy score without G1 & G2 is: ' + str(accuracy_score(y_test, y_predict)))\n",
    "        i += 1\n",
    "print('Gaussian SVM accuracy score with G1 & G2 is: ' + str(accuracy_score(y_test, y_predict)))        "
   ]
  },
  {
   "cell_type": "markdown",
   "metadata": {},
   "source": [
    "### G3 Regression analysis\n",
    "try Ridge Regression and LASSO"
   ]
  },
  {
   "cell_type": "code",
   "execution_count": 136,
   "metadata": {},
   "outputs": [
    {
     "name": "stdout",
     "output_type": "stream",
     "text": [
      "Adjusted R^2 value without G1 & G2 is: 0.21621074069543444\n",
      "Adjusted R^2 value with G1 & G2 is: 0.9097535931458496\n"
     ]
    }
   ],
   "source": [
    "X_wo = grade_df_drop[['failures', 'Medu', 'studytime', 'higher_yes', 'goout', 'internet_yes']].values # Defining the features\n",
    "X_w = grade_df_drop[['G2', 'G1', 'failures', 'Medu']].values # Defining the features\n",
    "X_array = [X_wo, X_w]\n",
    "i=1\n",
    "for X in X_array:\n",
    "    X = X.astype(np.float)\n",
    "    y = grade_df_drop.G3.values\n",
    "    X_train, X_test, y_train, y_test = train_test_split(X, y, random_state=5, test_size=0.2)\n",
    "    scaler = StandardScaler()\n",
    "    ridge = Ridge(alpha=1, tol=1e-3, max_iter=1000)\n",
    "    ridge_scaled = Pipeline(steps=[('scaler',scaler), ('ridge',ridge)])\n",
    "    ridge_scaled.fit(X_train, y_train)\n",
    "    y_predict = ridge_scaled.predict(X_test)\n",
    "    adjR2 = 1 - (1-ridge_scaled.score(X_test, y_test))*(len(y_test)-1)/(len(y_test)-X_test.shape[1]-1)\n",
    "    while i==1:\n",
    "        print('Adjusted R^2 value without G1 & G2 is: ' + str(adjR2))\n",
    "        i += 1\n",
    "print('Adjusted R^2 value with G1 & G2 is: ' + str(adjR2))"
   ]
  },
  {
   "cell_type": "code",
   "execution_count": 137,
   "metadata": {
    "scrolled": true
   },
   "outputs": [
    {
     "data": {
      "image/png": "[encoded data removed]",
      "text/plain": [
       "<Figure size 432x288 with 1 Axes>"
      ]
     },
     "metadata": {
      "needs_background": "light"
     },
     "output_type": "display_data"
    }
   ],
   "source": [
    "sns.regplot(y_test, np.round(y_predict), scatter_kws={'alpha':0.4}, fit_reg=0, y_jitter=0.3)\n",
    "plt.ylabel('Predicted G3')\n",
    "plt.xlabel('Actual G3')\n",
    "# plt.ylim([0,20])\n",
    "# plt.xlim([0,20])\n",
    "# plt.xticks(np.linspace(0,20,11))\n",
    "# plt.yticks(np.linspace(0,20,11))\n",
    "plt.show()"
   ]
  },
  {
   "cell_type": "markdown",
   "metadata": {},
   "source": [
    "### Extra Analysis with Random Forests"
   ]
  },
  {
   "cell_type": "code",
   "execution_count": 138,
   "metadata": {},
   "outputs": [],
   "source": [
    "from sklearn.ensemble import RandomForestClassifier\n",
    "from sklearn.ensemble import RandomForestRegressor"
   ]
  },
  {
   "cell_type": "markdown",
   "metadata": {},
   "source": [
    "### Binary Classification"
   ]
  },
  {
   "cell_type": "code",
   "execution_count": 139,
   "metadata": {},
   "outputs": [
    {
     "name": "stdout",
     "output_type": "stream",
     "text": [
      "accuracy score without G1 & G2 is: 0.8542713567839196\n",
      "accuracy score with G1 & G2 is: 0.8592964824120602\n"
     ]
    }
   ],
   "source": [
    "X_wo = grade_df_drop.drop(['G3','pass_fail', 'grade', 'G1', 'G2'], axis=1).values # Defining the features\n",
    "X_w = grade_df_drop.drop(['G3','pass_fail', 'grade'], axis=1).values # Defining the features\n",
    "i=1\n",
    "X_array = [X_wo, X_w]\n",
    "for X in X_array:\n",
    "    y = grade_df_drop.pass_fail.values\n",
    "    X_train, X_test, y_train, y_test = train_test_split(X, y, random_state=5, test_size=0.2)\n",
    "    scaler = StandardScaler()\n",
    "    RF = RandomForestClassifier(max_features='sqrt', n_estimators=100, min_samples_leaf=50, n_jobs=-1, random_state=5)\n",
    "    RF_scaled = Pipeline(steps=[('scaler',scaler), ('RF',RF)])\n",
    "    RF_scaled.fit(X_train, y_train)\n",
    "    y_predict = RF_scaled.predict(X_test)\n",
    "    while i==1:\n",
    "        print('accuracy score without G1 & G2 is: ' + str(accuracy_score(y_test, y_predict)))\n",
    "        i += 1\n",
    "print('accuracy score with G1 & G2 is: ' + str(accuracy_score(y_test, y_predict)))"
   ]
  },
  {
   "cell_type": "markdown",
   "metadata": {},
   "source": [
    "### 5-level Classification"
   ]
  },
  {
   "cell_type": "code",
   "execution_count": 140,
   "metadata": {},
   "outputs": [
    {
     "name": "stdout",
     "output_type": "stream",
     "text": [
      "accuracy score without G1 & G2 is: 0.3969849246231156\n",
      "accuracy score with G1 & G2 is: 0.6733668341708543\n"
     ]
    }
   ],
   "source": [
    "X_wo = grade_df_drop.drop(['G3','pass_fail', 'grade', 'G1', 'G2'], axis=1).values # Defining the features\n",
    "X_w = grade_df_drop.drop(['G3','pass_fail', 'grade'], axis=1).values # Defining the features\n",
    "X_array = [X_wo, X_w]\n",
    "i = 1\n",
    "for X in X_array:\n",
    "    y = grade_df_drop.grade.values\n",
    "    X_train, X_test, y_train, y_test = train_test_split(X, y, random_state=5, test_size=0.2)\n",
    "    scaler = StandardScaler()\n",
    "    RF = RandomForestClassifier(max_features='sqrt', n_estimators=1000, min_samples_leaf=50, n_jobs=-1, random_state=5)\n",
    "    RF_scaled = Pipeline(steps=[('scaler',scaler), ('RF',RF)])\n",
    "    RF_scaled.fit(X_train, y_train)\n",
    "    y_predict = RF_scaled.predict(X_test)\n",
    "    while i==1:\n",
    "        print('accuracy score without G1 & G2 is: ' + str(accuracy_score(y_test, y_predict)))\n",
    "        i += 1\n",
    "print('accuracy score with G1 & G2 is: ' + str(accuracy_score(y_test, y_predict)))"
   ]
  },
  {
   "cell_type": "code",
   "execution_count": 141,
   "metadata": {
    "scrolled": false
   },
   "outputs": [
    {
     "data": {
      "image/png": "[encoded data removed]",
      "text/plain": [
       "<Figure size 432x288 with 1 Axes>"
      ]
     },
     "metadata": {
      "needs_background": "light"
     },
     "output_type": "display_data"
    }
   ],
   "source": [
    "feature_importances = pd.DataFrame(RF.feature_importances_,\n",
    "                                   index = grade_df_drop.drop(['G3','pass_fail', 'grade'], axis=1).columns,\n",
    "                                    columns=['importance']).sort_values('importance', ascending=False)\n",
    "feature_importances.head(8).plot(kind='bar', subplots=True)\n",
    "plt.show()"
   ]
  },
  {
   "cell_type": "markdown",
   "metadata": {},
   "source": [
    "### Regression"
   ]
  },
  {
   "cell_type": "code",
   "execution_count": 142,
   "metadata": {},
   "outputs": [
    {
     "name": "stdout",
     "output_type": "stream",
     "text": [
      "R-squared value without G1 & G2 is: 0.17846590560153952\n",
      "Adjusted R^2 value without G1 & G2 is: 0.1597388117944738\n",
      "R-squared value with G1 & G2 is: 0.858098656422084\n",
      "Adjusted R^2 value with G1 & G2 is: 0.8564585101767224\n"
     ]
    }
   ],
   "source": [
    "# X = grade_df_drop.drop(['G3','pass_fail', 'grade', 'G1', 'G2'], axis=1).values # Defining the features\n",
    "X_wo = grade_df_drop[['failures', 'Medu', 'studytime', 'higher_yes', 'goout', 'internet_yes']].values # Defining the features\n",
    "X_w = grade_df_drop[['G2', 'G1', 'failures', 'Medu']].values # Defining the features\n",
    "i = 1\n",
    "X_array = [X_wo, X_w]\n",
    "for X in X_array:\n",
    "    y = grade_df_drop.G3.values\n",
    "    X = X.astype(np.float)\n",
    "    X_train, X_test, y_train, y_test = train_test_split(X, y, random_state=5, test_size=0.2)\n",
    "    scaler = StandardScaler()\n",
    "    RF = RandomForestRegressor(max_features='sqrt', n_estimators=1000, min_samples_leaf=50, n_jobs=-1, random_state=5)\n",
    "    RF_scaled = Pipeline(steps=[('scaler',scaler), ('RF',RF)])\n",
    "    RF_scaled.fit(X_train, y_train)\n",
    "    y_predict = RF_scaled.predict(X_test)\n",
    "    while i==1:\n",
    "        print('R-squared value without G1 & G2 is: ' + str(r2_score(y_test, np.round(y_predict))))\n",
    "        adjR2 = 1 - (1-RF_scaled.score(X_test, y_test))*(len(y_test)-1)/(len(y_test)-X_test.shape[1]-1)\n",
    "        print('Adjusted R^2 value without G1 & G2 is: ' + str(adjR2))\n",
    "        i+=1\n",
    "print('R-squared value with G1 & G2 is: ' + str(r2_score(y_test, np.round(y_predict))))\n",
    "adjR2 = 1 - (1-RF_scaled.score(X_test, y_test))*(len(y_test)-1)/(len(y_test)-X_test.shape[1]-1)\n",
    "print('Adjusted R^2 value with G1 & G2 is: ' + str(adjR2))"
   ]
  },
  {
   "cell_type": "markdown",
   "metadata": {},
   "source": [
    "# Accuracy plots from applied algorithms"
   ]
  },
  {
   "cell_type": "code",
   "execution_count": 143,
   "metadata": {},
   "outputs": [],
   "source": [
    "algorithm = ['Linear SVM', 'Logarithmic', 'Gaussian SVM', 'Random Forest',\n",
    "            'Linear SVM', 'Logarithmic', 'Gaussian SVM', 'Random Forest']\n",
    "\n",
    "perc_wo = {'Accuracy':[0.874, 0.854, 0.859, 0.854, 0.905, 0.920, 0.930, 0.859], \n",
    "          'G1 & G2':['without G1 & G2', 'without G1 & G2', 'without G1 & G2', 'without G1 & G2'\n",
    "                    , 'with G1 & G2', 'with G1 & G2','with G1 & G2', 'with G1 & G2']}\n"
   ]
  },
  {
   "cell_type": "code",
   "execution_count": 144,
   "metadata": {},
   "outputs": [],
   "source": [
    "binary = pd.DataFrame(perc_wo, index=algorithm)"
   ]
  },
  {
   "cell_type": "code",
   "execution_count": 145,
   "metadata": {},
   "outputs": [
    {
     "data": {
      "image/png": "[encoded data removed]",
      "text/plain": [
       "<Figure size 432x288 with 1 Axes>"
      ]
     },
     "metadata": {
      "needs_background": "light"
     },
     "output_type": "display_data"
    }
   ],
   "source": [
    "sns.barplot(x=binary.index, y='Accuracy', hue='G1 & G2',data=binary)\n",
    "plt.legend(bbox_to_anchor=(1.05, 1), loc=2, borderaxespad=0.)\n",
    "plt.title('Binary Classification')\n",
    "plt.show()"
   ]
  },
  {
   "cell_type": "code",
   "execution_count": 146,
   "metadata": {},
   "outputs": [
    {
     "data": {
      "image/png": "[encoded data removed]",
      "text/plain": [
       "<Figure size 432x288 with 1 Axes>"
      ]
     },
     "metadata": {
      "needs_background": "light"
     },
     "output_type": "display_data"
    }
   ],
   "source": [
    "algorithm = ['Linear SVM', 'Logarithmic', 'Gaussian SVM', 'Random Forest',\n",
    "            'Linear SVM', 'Logarithmic', 'Gaussian SVM', 'Random Forest']\n",
    "\n",
    "perc_wo = {'Accuracy':[0.332, 0.342, 0.307, 0.397, 0.518, 0.568, 0.532, 0.673], \n",
    "          'G1 & G2':['without', 'without', 'without', 'without'\n",
    "                    , 'with', 'with','with', 'with']}\n",
    "five_level = pd.DataFrame(perc_wo, index=algorithm)\n",
    "sns.barplot(x=five_level.index, y='Accuracy', hue='G1 & G2', data=five_level)\n",
    "plt.title('5-level classification accuracy')\n",
    "plt.show()"
   ]
  },
  {
   "cell_type": "code",
   "execution_count": 147,
   "metadata": {},
   "outputs": [
    {
     "data": {
      "image/png": "[encoded data removed]",
      "text/plain": [
       "<Figure size 432x288 with 1 Axes>"
      ]
     },
     "metadata": {
      "needs_background": "light"
     },
     "output_type": "display_data"
    }
   ],
   "source": [
    "algorithm = ['Ridge Regression', 'RF Regressor',\n",
    "            'Ridge Regression', 'RF Regressor']\n",
    "\n",
    "perc_wo = {'Adj. R-squared':[0.216, 0.160, 0.910, 0.856], \n",
    "          'G1 & G2':['without G1 & G2', 'without G1 & G2',\n",
    "                     'with G1 & G2', 'with G1 & G2']}\n",
    "five_level = pd.DataFrame(perc_wo, index=algorithm)\n",
    "sns.barplot(x=five_level.index, y='Adj. R-squared', hue='G1 & G2', data=five_level)\n",
    "plt.title('Regression adj. R-squared')\n",
    "plt.legend(bbox_to_anchor=(1.05, 1), loc=2, borderaxespad=0.)\n",
    "plt.show()"
   ]
  }
 ],
 "metadata": {
  "kernelspec": {
   "display_name": "Python 3",
   "language": "python",
   "name": "python3"
  },
  "language_info": {
   "codemirror_mode": {
    "name": "ipython",
    "version": 3
   },
   "file_extension": ".py",
   "mimetype": "text/x-python",
   "name": "python",
   "nbconvert_exporter": "python",
   "pygments_lexer": "ipython3",
   "version": "3.6.8"
  }
 },
 "nbformat": 4,
 "nbformat_minor": 2
}
